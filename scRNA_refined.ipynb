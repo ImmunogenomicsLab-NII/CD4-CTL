{
 "cells": [
  {
   "cell_type": "code",
   "execution_count": null,
   "id": "3f87ff9d-6200-415e-b496-e9284463c1fb",
   "metadata": {},
   "outputs": [],
   "source": [
    "suppressMessages({\n",
    "    library(Seurat)\n",
    "    library(dplyr)\n",
    "    library(ggplot2)\n",
    "    library(patchwork)\n",
    "    library(rlang)\n",
    "    library(UpSetR)\n",
    "    library(Seurat)\n",
    "    library(UCell)\n",
    "    library(ggExtra)\n",
    "    library(fgsea)\n",
    "    library(DOSE)\n",
    "    library(org.Hs.eg.db)\n",
    "    library(tidyverse)\n",
    "    library(SeuratObject)\n",
    "    library(DropletUtils)\n",
    "    library(Ckmeans.1d.dp)\n",
    "#   library(\"leiden\")\n",
    "    library(igraph)\n",
    "    library(tidyverse)\n",
    "    library(patchwork)\n",
    "    library(viridis)\n",
    "    library(Seurat)\n",
    "    library(scCustomize)\n",
    "    library(qs)\n",
    "    library(ggpubr)\n",
    "    library(clustree)\n",
    "    library(\"ggraph\")\n",
    "    library(\"Nebulosa\")\n",
    "    library(ggalluvial)\n",
    "    library(\"MAST\")\n",
    "    library(\"pheatmap\")\n",
    "    library(\"ape\")\n",
    "    library(EnhancedVolcano)\n",
    "    library(wesanderson)\n",
    "    library(ArchR)\n",
    "    library(ComplexHeatmap)\n",
    "})"
   ]
  },
  {
   "cell_type": "code",
   "execution_count": null,
   "id": "2377167e-eb32-40f7-8a12-26657dd86ff1",
   "metadata": {},
   "outputs": [],
   "source": [
    "if (!dir.exists(\"Images\")) {dir.create(\"Images\")}\n",
    "if (!dir.exists(\"Tables\"))  {dir.create(\"Tables\")}\n",
    "if (!dir.exists(\"RObjects\")) {dir.create(\"RObjects\")}\n",
    "\n",
    "IMG_OUT = \"Images\"\n",
    "DF_OUT  = \"Tables\"\n",
    "RDS_OUT = \"RObjects\""
   ]
  },
  {
   "cell_type": "code",
   "execution_count": null,
   "id": "0adcd986-e77b-47c7-8d25-305317a53178",
   "metadata": {},
   "outputs": [],
   "source": [
    "plan(\"multicore\", workers = 5)\n",
    "options(future.globals.maxSize = 1000000 * 1024^4)"
   ]
  },
  {
   "cell_type": "code",
   "execution_count": null,
   "id": "589a2a14-9a35-4f27-a57a-7ba684989878",
   "metadata": {},
   "outputs": [],
   "source": [
    "#read in QC-ed and demultiplexed object (refer to methods in manuscript)"
   ]
  },
  {
   "cell_type": "code",
   "execution_count": null,
   "id": "973065f7-dbff-4372-b299-11c10d7fe48b",
   "metadata": {},
   "outputs": [],
   "source": [
    "seu.obj <- readRDS(\"../obj.qc.rds\")"
   ]
  },
  {
   "cell_type": "code",
   "execution_count": null,
   "id": "4f3692d5-5fad-4799-840a-ca5a18fd4178",
   "metadata": {},
   "outputs": [],
   "source": [
    "#check dimensions of dataset\n",
    "seu.obj@meta.data$Origin %>% table()\n",
    "seu.obj@meta.data$Origin %>% is.na() %>% which() %>% length()\n",
    "\n",
    "seu.obj@meta.data$Donor %>% table()\n",
    "seu.obj@meta.data$Donor %>% is.na() %>% which() %>% length()\n",
    "\n",
    "seu.obj@meta.data$DoubletStatus %>% table()\n",
    "seu.obj@meta.data$DoubletStatus %>% table() %>% sum()"
   ]
  },
  {
   "cell_type": "code",
   "execution_count": null,
   "id": "5d917340-c2bd-4757-bb80-504b12f32e61",
   "metadata": {},
   "outputs": [],
   "source": [
    "#sctransform object\n",
    "options(warn=-1) # suppress the vomit\n",
    "suppressMessages({\n",
    "    seu.obj <- SCTransform(seu.obj, verbose = FALSE, vst.flavor = \"v2\", vars.to.regress = c(\"percent.mt\", \"percent.rb\"))\n",
    "})\n",
    "options(warn=0)"
   ]
  },
  {
   "cell_type": "code",
   "execution_count": null,
   "id": "0762fd24-6e7a-43e2-ab7d-2e2501193fe6",
   "metadata": {},
   "outputs": [],
   "source": [
    "#if integrating objects (Figure 6)"
   ]
  },
  {
   "cell_type": "code",
   "execution_count": null,
   "id": "43f0a871-7f88-4657-ad22-290528e5878b",
   "metadata": {},
   "outputs": [],
   "source": [
    "seu.obj1.list <- list(obj1 = obj1, obj2 = obj2, obj3 = obj3)\n",
    "\n",
    "suppressMessages({\n",
    "seu.obj1.list\n",
    "for (i in 1:length(seu.obj1.list)) {\n",
    "    seu.obj1.list[[i]] <- SCTransform(seu.obj1.list[[i]], verbose = FALSE, vst.flavor = \"v2\", \n",
    "                                     vars.to.regress = c(\"percent.mt\", \"percent.rb\", \"S.Score\", \"G2M.Score\"),\n",
    "                                    method = \"glmGamPoi\")\n",
    "}\n",
    "})"
   ]
  },
  {
   "cell_type": "code",
   "execution_count": null,
   "id": "9a41d22d-7def-46d4-bc8a-dc74678b517b",
   "metadata": {},
   "outputs": [],
   "source": [
    "options(future.globals.maxSize= 4718592000)\n",
    "seu.obj1.features <- SelectIntegrationFeatures(object.list = seu.obj1.list, nfeatures = 3000)\n",
    "seu.obj1.list <- PrepSCTIntegration(object.list = seu.obj1.list, anchor.features = seu.obj1.features, \n",
    "    verbose = FALSE)"
   ]
  },
  {
   "cell_type": "code",
   "execution_count": null,
   "id": "2696e373-0d21-43b6-8604-3bb5be6880cc",
   "metadata": {},
   "outputs": [],
   "source": [
    "seu.obj1.anchors <- FindIntegrationAnchors(object.list = seu.obj1.list, normalization.method = \"SCT\", \n",
    "    anchor.features = seu.obj1.features, verbose = FALSE)\n",
    "seu.obj1.integrated <- IntegrateData(anchorset = seu.obj1.anchors, normalization.method = \"SCT\", \n",
    "    verbose = FALSE)"
   ]
  },
  {
   "cell_type": "code",
   "execution_count": null,
   "id": "c5ecb986-aa41-4073-92ec-af50d24572e4",
   "metadata": {},
   "outputs": [],
   "source": [
    "#if merging objects (Figure 5)"
   ]
  },
  {
   "cell_type": "code",
   "execution_count": null,
   "id": "7aa05791-0e32-48cd-bf3b-04797b3215f2",
   "metadata": {},
   "outputs": [],
   "source": [
    "DefaultAssay(seu.obj) <- \"RNA\"\n",
    "DefaultAssay(seu.obj2) <- \"RNA\""
   ]
  },
  {
   "cell_type": "code",
   "execution_count": null,
   "id": "f0fee8a5-50ec-4054-a035-8aba101f7402",
   "metadata": {},
   "outputs": [],
   "source": [
    "#remove uncommon genes\n",
    "seu.obj_new <- seu.obj[(intersect(rownames(seu.obj[[\"SCT\"]]), rownames(seu.obj2[[\"SCT\"]]))), ]\n",
    "seu.obj2_new <- seu.obj2[(intersect(rownames(seu.obj[[\"SCT\"]]), rownames(seu.obj2[[\"SCT\"]]))), ]"
   ]
  },
  {
   "cell_type": "code",
   "execution_count": null,
   "id": "52469b8d-ab64-4694-9537-4ce554a43e59",
   "metadata": {},
   "outputs": [],
   "source": [
    "tt.features <- SelectIntegrationFeatures(object.list = list(seu.obj_new, seu.obj2_new), nfeatures = 3000)"
   ]
  },
  {
   "cell_type": "code",
   "execution_count": null,
   "id": "c04ebe07-cc9c-46e1-bbf9-09fabd14d4f5",
   "metadata": {},
   "outputs": [],
   "source": [
    "merged <- merge(seu.obj_new, y = seu.obj2_new,\n",
    "                 merge.data = TRUE)\n",
    "\n",
    "VariableFeatures(merged[[\"SCT\"]]) <- tt.features"
   ]
  },
  {
   "cell_type": "code",
   "execution_count": null,
   "id": "90dbb2ae-a82f-453b-88e1-277f1aecb6ce",
   "metadata": {},
   "outputs": [],
   "source": [
    "#after this step treat objects similarly, whether integrated, merged or individual"
   ]
  },
  {
   "cell_type": "code",
   "execution_count": null,
   "id": "570dc7df-176a-482d-93de-9ef20daf9894",
   "metadata": {},
   "outputs": [],
   "source": [
    "# Removing TCR genes after SCTransform\n",
    "seu.obj <- seu.obj[!grepl(\"^TR[ABDG][VJC]\", rownames(seu.obj)), ]"
   ]
  },
  {
   "cell_type": "code",
   "execution_count": null,
   "id": "ea010506-b37d-43fe-a720-9897b278af29",
   "metadata": {},
   "outputs": [],
   "source": [
    "seu.obj <- RunPCA(seu.obj, verbose = FALSE)\n",
    "ElbowPlot(seu.obj, ndims = 50)\n",
    "seu.obj <- FindNeighbors(seu.obj, dims=1:20, reduction=\"pca\")\n",
    "seu.obj <- FindClusters(seu.obj, algorithm=3, resolution=c(0.1, 0.2, 0.3, 0.4, 0.5), verbose = FALSE)\n",
    "\n",
    "set.seed(12345)\n",
    "    seu.obj <- RunUMAP(seu.obj, dims=1:20, reduction=\"pca\", verbose = FALSE)"
   ]
  },
  {
   "cell_type": "code",
   "execution_count": null,
   "id": "547f9cdc-5b48-48a9-aeb8-b0f608f03339",
   "metadata": {},
   "outputs": [],
   "source": [
    "#refine dimensions used based on genes in PC\n",
    "pdf(sprintf(\"%s/seu.obj.pcdims.pdf\", IMG_OUT), width=9, height=10)\n",
    "DimHeatmap(seu.obj, dims = 1:30, cells = 1000, balanced = TRUE)\n",
    "dev.off()\n",
    "\n",
    "#refine clustering resolution based on clustree\n",
    "pdf(sprintf(\"%s/seu.obj.clustree.pdf\", IMG_OUT), width=6, height=10)\n",
    "clustree(seu.obj, prefix = \"SCT_snn_res.\")\n",
    "dev.off()"
   ]
  },
  {
   "cell_type": "code",
   "execution_count": null,
   "id": "6bb84b16-e46a-4a50-8d02-547d4486b158",
   "metadata": {},
   "outputs": [],
   "source": [
    "#generate palette for clusters for UMAP\n",
    "pal1 <- wes_palette(\"GrandBudapest1\")\n",
    "pal2 <- wes_palette(\"GrandBudapest2\")\n",
    "pal3 <- wes_palette(\"Cavalcanti1\")\n",
    "pal4 <- wes_palette(\"Darjeeling2\")\n",
    "\n",
    "pal16 <- c(pal1, pal2, pal3, pal4)"
   ]
  },
  {
   "cell_type": "code",
   "execution_count": null,
   "id": "fc9dd26d-4a92-4b2c-a681-6ae852916dac",
   "metadata": {},
   "outputs": [],
   "source": [
    "#generate umaps either together or plit based on origin (Figures 2B, 4A, 5A, 6H, S5A and S6C)\n",
    "DimPlot(virus.integrated, label = T, cols = pal16) -> p1\n",
    "DimPlot(virus.integrated, label = T, cols = pal16, split.by = \"Virus\") -> p2\n",
    "\n",
    "save_result_generic(\n",
    "   args= list(\"FUN\"=p1,\n",
    "    \"width\"=6, \"height\"=5, \n",
    "    \"title\"=\"umap.virus.int\", type=\"plot\")\n",
    ")\n",
    "save_result_generic(\n",
    "   args= list(\"FUN\"=p2,\n",
    "    \"width\"=16, \"height\"=5, \n",
    "    \"title\"=\"umap.virus.int.split.by.virus\", type=\"plot\")\n",
    ")"
   ]
  },
  {
   "cell_type": "code",
   "execution_count": null,
   "id": "f025ad80-6278-480f-acb3-fcbfe89ad5cc",
   "metadata": {},
   "outputs": [],
   "source": [
    "#if tcr genes were removed, and needs adding back"
   ]
  },
  {
   "cell_type": "code",
   "execution_count": null,
   "id": "1aee017c-b2b1-4fc9-ae21-c082685bdf6e",
   "metadata": {},
   "outputs": [],
   "source": [
    "withTCR <- subset(withTCR, cells = WhichCells(object = seu.obj1.integrated))"
   ]
  },
  {
   "cell_type": "code",
   "execution_count": null,
   "id": "d98e4ecc-123f-469d-baef-0914f0e94ee0",
   "metadata": {},
   "outputs": [],
   "source": [
    "seu.obj1.integrated[[\"new.counts\"]] <- CreateAssayObject(counts = GetAssayData(object = withTCR, slot = \"count\", assay = \"RNA\"))"
   ]
  },
  {
   "cell_type": "code",
   "execution_count": null,
   "id": "66877794-a13f-4081-bb7d-5f7eaff9a361",
   "metadata": {},
   "outputs": [],
   "source": [
    "seu.obj1.integrated <- SCTransform(seu.obj1.integrated, assay = \"new.counts\", new.assay.name = \"SCTnewcounts\", do.correct.umi = TRUE, \n",
    "                               verbose = FALSE, vst.flavor = \"v2\", \n",
    "                               vars.to.regress = c(\"percent.mt\", \"percent.rb\", \"S.Score\", \"G2M.Score\"))"
   ]
  },
  {
   "cell_type": "code",
   "execution_count": null,
   "id": "ce92f935-a316-4190-a78c-c22870a0291f",
   "metadata": {},
   "outputs": [],
   "source": [
    "#back to common analysis for all"
   ]
  },
  {
   "cell_type": "code",
   "execution_count": null,
   "id": "491fd204-6804-4fc0-8218-f2c892f9a3c7",
   "metadata": {},
   "outputs": [],
   "source": [
    "seu.obj1.integrated[[\"HTO\"]] <- withTCR[[\"HTO\"]]\n",
    "seu.obj1.integrated[[\"ADT\"]] <- withTCR[[\"ADT\"]]"
   ]
  },
  {
   "cell_type": "code",
   "execution_count": null,
   "id": "52bd7543-fdf6-4b5d-a982-578c3c0e1a56",
   "metadata": {},
   "outputs": [],
   "source": [
    "#adt expression plot for all cells from an integrated object (Figure 2F)\n",
    "virus.for.adt <- NormalizeData(virus.for.adt, assay=\"ADT\", normalization.method=\"CLR\", margin = 2)\n",
    "\n",
    "DefaultAssay(virus.for.adt) <- \"ADT\"\n",
    "\n",
    "adt1 <- c(\"CD4\", \"CD8\", \"CD45RA\")\n",
    "\n",
    "adt.umap <- list()\n",
    "\n",
    "for (kp in adt1)\n",
    "{\n",
    "    FeaturePlot_scCustom(virus.for.adt, features = kp, pt.size = 0.5, reduction = \"umap\", na_color = \"lightgray\") -> adt.umap[[kp]]\n",
    "}\n",
    "\n",
    "print_plots_in_list(adt.umap, title = \"umap.adt.virus\")"
   ]
  },
  {
   "cell_type": "code",
   "execution_count": null,
   "id": "5f7c10cc-969d-4cbb-89a3-ee5c280719af",
   "metadata": {},
   "outputs": [],
   "source": [
    "#adt expression plot for one subset of cells from integrated object (Figure 6J)\n",
    "seu.obj1@meta.data %>% filter(Origin == \"CD4\") %>% rownames() -> for.adt1\n",
    "seu.obj1.for.adt1 <- subset(seu.obj1, cells = for.adt1)\n",
    "\n",
    "seu.obj1.for.adt1 <- NormalizeData(seu.obj1.for.adt1, assay=\"ADT\", normalization.method=\"CLR\", margin = 2)\n",
    "\n",
    "DefaultAssay(seu.obj1.for.adt1) <- \"ADT\"\n",
    "\n",
    "adt.umap1 <- list()\n",
    "adt1 <- c(\"CD45RA\", \"CCR7\")\n",
    "for (kp in adt1)\n",
    "{\n",
    "    FeaturePlot_scCustom(seu.obj1.for.adt1, features = kp, pt.size = 0.5, reduction = \"umap\", na_color = \"lightgray\") -> adt.umap1[[kp]]\n",
    "}\n",
    "adt.umap1\n",
    "\n",
    "print_plots_in_list(adt.umap1, title = \"ADT_UMAP_forCD4\")"
   ]
  },
  {
   "cell_type": "code",
   "execution_count": null,
   "id": "054fa83e-75a8-41aa-8866-5fc813b2977f",
   "metadata": {},
   "outputs": [],
   "source": [
    "#proportion display across clusters or origin of interest (Figures 5B, 6I, S2B and S6D)\n",
    "display_proportion(\n",
    "    seuobj = seu.obj1, \n",
    "    group_by = \"integrated_snn_res.0.3\",\n",
    "    check_proportion_of = \"Origin\", # was ratio\n",
    "    palette = c(\"#46B1E1\", \"#1E4B66\", \"#EE8B3A\")\n",
    ") + theme_bw() + theme(panel.grid.major = element_blank(),\n",
    "      panel.grid.minor = element_blank()) -> P23\n",
    "\n",
    "display_proportion(\n",
    "    seuobj = seu.obj1, \n",
    "    group_by = \"Origin\",\n",
    "    check_proportion_of = \"integrated_snn_res.0.3\", # was ratio\n",
    "    palette = c('#73f08e','#921b63','#fa3838','#481e2e','#48a4f5','#12090a','#6a401b','#dc268c','#824fae')\n",
    ") + theme_bw() + theme(panel.grid.major = element_blank(),\n",
    "      panel.grid.minor = element_blank()) -> P24\n",
    "\n",
    "P24\n",
    "\n",
    "save_result_generic(\n",
    "   args= list(\"FUN\"=P23,\n",
    "    \"width\"=8, \"height\"=5, \"title\"=\"ORIGINPROP\", type=\"plot\")\n",
    ")\n",
    "\n",
    "save_result_generic(\n",
    "   args= list(\"FUN\"=P24,\n",
    "    \"width\"=5, \"height\"=5, \"title\"=\"ORIGINPROP_reverse\", type=\"plot\")\n",
    ")"
   ]
  },
  {
   "cell_type": "code",
   "execution_count": null,
   "id": "83465629-6e16-40be-85c1-4ca867904c44",
   "metadata": {},
   "outputs": [],
   "source": [
    "#umaps for transcript expression with NA cutoff (0 values for transcripts) (Figures 2C, 2F, 4C, 5D and 6L)\n",
    "DefaultAssay(seu.obj) <- \"SCT\" #or SCTnewcounts\n",
    "genes <- c(\"CD40LG\", \"TNFRSF9\", \"CD4\", \"CD8A\", \"CD8B\", \n",
    "           \"GZMB\", \"PRF1\", \"GNLY\", \"ADGRG1\", \"ZNF683\",\n",
    "           \"CCR7\", \"CD27\", \"CD28\", \"SELL\", \"LEF1\")\n",
    "genes.umap1 <- list()\n",
    "\n",
    "for (kp in genes)\n",
    "{\n",
    "    FeaturePlot_scCustom(seu.obj, features = kp, pt.size = 0.5, reduction = \"umap\", na_color = \"lightgray\") -> adt.umap1[[kp]]\n",
    "}\n",
    "adt.umap1\n",
    "\n",
    "print_plots_in_list(genes.umap1, title = \"genes.umap1\")"
   ]
  },
  {
   "cell_type": "code",
   "execution_count": null,
   "id": "2ac6afd2-08f1-48c8-95b2-653e1d03a21d",
   "metadata": {},
   "outputs": [],
   "source": [
    "#perform DEG analysis (one vs all) or (group1 vs group2)"
   ]
  },
  {
   "cell_type": "code",
   "execution_count": null,
   "id": "470d4249-0cef-43a0-b2ea-6b016e90b1f4",
   "metadata": {},
   "outputs": [],
   "source": [
    "#pairwise comparison\n",
    "Idents(virus.integrated) <- \"integrated_snn_res.0.5\"\n",
    "PrepSCTFindMarkers(virus.integrated, assay = \"SCT\", verbose = TRUE) -> virus.integrated\n",
    "deg.2.4 <- FindMarkers(\n",
    "    virus.integrated,\n",
    "    ident.1 = 2,\n",
    "    ident.2 = 4,\n",
    "    logfc.threshold = 0.25,\n",
    "    verbose = FALSE)\n",
    "\n",
    "deg.2.4$genes <- rownames(deg.2.4)\n",
    "\n",
    "# Add a column to indicate significantly differentially expressed genes\n",
    "deg.2.4 <- deg.2.4 %>% \n",
    "  mutate(significant = ifelse(abs(avg_log2FC) > 0.25 & p_val_adj < 0.05, \"Significant\", \"Not significant\"))\n",
    "\n",
    "# Add a column to indicate cluster\n",
    "deg.2.4 <- deg.2.4 %>% \n",
    "  mutate(cluster = ifelse(avg_log2FC > 0, \"2\", \"4\"))\n",
    "\n",
    "# Order data based on p-value and select top n significant genes\n",
    "top_genes <- deg.2.4 %>% group_by(cluster) %>%\n",
    "  filter(p_val_adj < 0.005, abs(avg_log2FC) > 0.5) %>% \n",
    "  arrange(desc(abs(avg_log2FC))) %>% \n",
    "  slice_head(n = 50) %>% \n",
    "  pull(genes)"
   ]
  },
  {
   "cell_type": "code",
   "execution_count": null,
   "id": "e38b3187-6fe1-4cb8-9ab5-f6d167f40013",
   "metadata": {},
   "outputs": [],
   "source": [
    "#generate volcano plots (Figure 2G)\n",
    "keyvals <- ifelse(\n",
    "    deg.2.4$avg_log2FC > 0.25, '#5B1A18',\n",
    "      ifelse(deg.2.4$avg_log2FC < -0.25, '#E6A0C4',\n",
    "        'black'))\n",
    "  keyvals[is.na(keyvals)] <- 'black'\n",
    "  names(keyvals)[keyvals == '#5B1A18'] <- 'Cluster 2 Up'\n",
    "  names(keyvals)[keyvals == 'black'] <- 'NS'\n",
    "  names(keyvals)[keyvals == '#E6A0C4'] <- 'Cluster 4 Up'\n",
    "\n",
    "EnhancedVolcano(deg.2.4,\n",
    "    lab = deg.2.4$genes,\n",
    "    x = 'avg_log2FC',\n",
    "    y = 'p_val_adj',\n",
    "    title = 'Cluster 2 versus Cluster 4',\n",
    "    subtitle = NULL,\n",
    "    selectLab = top_genes,\n",
    "    #xlim = c(-0.3, 0.75),\n",
    "    xlab = \"Fold Change\",\n",
    "    axisLabSize = 10,\n",
    "    colCustom = keyvals,\n",
    "    pCutoff = 0.05,\n",
    "    FCcutoff = 0.25,\n",
    "    pointSize = 2.0,\n",
    "    labSize = 2.5,\n",
    "    cutoffLineType = 'twodash',\n",
    "    cutoffLineWidth = 0.8,\n",
    "    legendLabels=c('Not sig.','FoldChange','p-value',\n",
    "      'p-value & FoldChange'),  \n",
    "    legendPosition = 'right',\n",
    "    legendLabSize = 10,\n",
    "    legendIconSize = 3.0,\n",
    "    drawConnectors = T,\n",
    "    widthConnectors = 0.2,\n",
    "    max.overlaps = 20,\n",
    "    gridlines.major = F,\n",
    "    gridlines.minor = F,\n",
    "    parseLabels = TRUE\n",
    "    ) -> p\n",
    "p\n",
    "\n",
    "save_result_generic(\n",
    "   args= list(\"FUN\"=p,\n",
    "    \"width\"=15, \"height\"=8, \n",
    "    \"title\"=\"Volcano.2.4\", type=\"plot\")\n",
    ")"
   ]
  },
  {
   "cell_type": "code",
   "execution_count": null,
   "id": "c52ab279-9f1b-42ad-8e71-09ca32d9637a",
   "metadata": {},
   "outputs": [],
   "source": [
    "#one vs all comparison\n",
    "suppressMessages({\n",
    "PrepSCTFindMarkers(seu.obj, assay = \"SCT\", verbose = TRUE) -> seu.obj\n",
    "Idents(seu.obj.filt) <- \"SCT_snn_res.0.4\"\n",
    "seu.obj.mast <- FindAllMarkers(\n",
    "  object = seu.obj.filt,\n",
    "  verbose = FALSE,\n",
    "  logfc.threshold = 0.25\n",
    ")\n",
    "})\n",
    "\n",
    "# write CSVs\n",
    "up_seu.obj.new_deg  <- seu.obj.mast %>% filter(avg_log2FC > 0.25) %>%  filter(p_val_adj < 0.05)\n",
    "\n",
    "dn_seu.obj.new_deg  <- seu.obj.mast %>% filter(avg_log2FC < -0.25) %>%  filter(p_val_adj < 0.05)\n",
    "\n",
    "write.csv(up_seu.obj.new_deg,  \"Tables/up.seu.obj.wocl13.14.csv\")\n",
    "\n",
    "write.csv(dn_seu.obj.new_deg,  \"Tables/dn.seu.obj.wocl13.14.csv\")"
   ]
  },
  {
   "cell_type": "code",
   "execution_count": null,
   "id": "613ab0c6-e551-48af-9257-815c905defcc",
   "metadata": {},
   "outputs": [],
   "source": [
    "diff.day.cyto %>% \n",
    "group_by(cluster) %>%\n",
    "top_n(n = 50, wt = avg_log2FC) %>%\n",
    "filter(pct.1 > 0.1) %>% \n",
    "filter(p_val_adj < 0.05) -> top25"
   ]
  },
  {
   "cell_type": "code",
   "execution_count": null,
   "id": "795575fc-ad11-4126-8d1e-8a04b2ca595f",
   "metadata": {},
   "outputs": [],
   "source": [
    "#generate heatmap for DEGs using custom function (Figure 7E)\n",
    "HMAP_sct(diff.integrated,  filtered_de_table = top25, cell.groups = \"type\") -> QCD12\n",
    "QCD12\n",
    "\n",
    "save_result_generic(\n",
    "   args= list(\"FUN\"=QCD12,\n",
    "    \"width\"=10, \"height\"=12, \"title\"=\"HMAP_HC_both\", type=\"plot\")\n",
    ")"
   ]
  },
  {
   "cell_type": "code",
   "execution_count": null,
   "id": "36ec6384-641d-495b-b225-e38a7df26b86",
   "metadata": {},
   "outputs": [],
   "source": [
    "#generate dotplot for selected genes either based on DEGs or interest (Figures 2E, 4B, 6P and S6I)"
   ]
  },
  {
   "cell_type": "code",
   "execution_count": null,
   "id": "59d17567-e50e-4a99-82e3-a56a35d8cf14",
   "metadata": {},
   "outputs": [],
   "source": [
    "goi.cl <- c(\"IL6R\", \"CD27\", \"CRIP1\", \"UCP2\", \"CD52\", \"TCF7\",\n",
    "           \"SELL\", \"IL32\", \"NELL2\", \"DUSP2\", \"CRIP2\",\n",
    "           \"SMAD7\", \"BCL3\",\n",
    "           \"FOS\", \"CENPK\", \"KLF9\",\n",
    "           \"S1PR1\",\n",
    "           \"ZEB1\", \"KLF12\", \"PBX3\", \"POU2F1\", \"HDAC4\", \"RUNX1\", \"ZBTB20\", \"TCF12\", \"BACH2\", \"TGFBR2\",\n",
    "           \"RELA\", \"NFKBIA\", \"IRF1\", \"FOSB\", \"DUSP1\", \"EGR1\",\n",
    "           \"FOXP3\", \"IL2RA\", \"TIGIT\", \"IKZF2\", \"CTLA4\", \"IL10RA\",\n",
    "           \"CCL4\", \"CCL5\", \"CST7\", \"NKG7\", \"GNLY\", \"PRF1\", \"GZMB\",\n",
    "           \"GZMK\", \"LINC02446\", \"KLRK1\", \"ZNF683\", \"ZEB2\", \"TBX21\", \"BHLHE40\", \"HOPX\")"
   ]
  },
  {
   "cell_type": "code",
   "execution_count": null,
   "id": "96a61ff0-c2b2-4e1e-a98e-ffd7c0a75455",
   "metadata": {},
   "outputs": [],
   "source": [
    "DefaultAssay(seu.obj) <- \"SCT\"\n",
    "DotPlot_scCustom(\n",
    "  seu.obj.filt,\n",
    "  features = rev(goi.cl),\n",
    "  group.by = \"SCT_snn_res.0.4\",\n",
    "  #split.by = \"Origin\",  ##if splitting dotplot further based on another column in metadata\n",
    "  colors_use = paletteContinuous(set = \"horizonExtra\", n = 5, reverse = TRUE),\n",
    "  remove_axis_titles = TRUE,\n",
    "  x_lab_rotate = 45,\n",
    "  flip_axes = TRUE\n",
    ") -> p1\n",
    "\n",
    "p1$data$id <- factor(x = p1$data$id, levels = c(\"0\", \"1\", \"2\", \"3\", \"4\", \"5\", \"6\", \n",
    "                        \"7\", \"8\", \"9\", \"10\", \"11\", \"12\"))\n",
    "\n",
    "pdf(sprintf(\"%s/goi.cl_dot_coi.pdf\", IMG_OUT), width=10, height=10)\n",
    "p1\n",
    "dev.off()"
   ]
  },
  {
   "cell_type": "code",
   "execution_count": null,
   "id": "bad563fa-0536-479d-b051-9a48954a7396",
   "metadata": {},
   "outputs": [],
   "source": [
    "#generate clustered dotplot for selected genes either based on DEGs or interest (Figure S4H)\n",
    "Idents(seu.obj.filt) <- \"SCT_snn_res.0.4\"\n",
    "Clustered_DotPlot(seurat_object = seu.obj.filt, features = tf2,\n",
    "                 colors_use_exp = paletteContinuous(set = \"horizonExtra\", n = 256, reverse = TRUE),\n",
    "                 group.by = \"SCT_snn_res.0.4\", row_label_size = 6,\n",
    "                 colors_use_idents = pal15, cluster_feature = FALSE) -> tf.dotplot3  ##pal15 refers to the custom-generated cluster colors\n",
    "\n",
    "save_result_generic(\n",
    "   args= list(\"FUN\"=tf.dotplot3[[2]],\n",
    "    \"width\"=8, \"height\"=6, \"title\"=\"dotplot_tf.narrowed.cl5.11.12\", type=\"plot\")\n",
    ")"
   ]
  },
  {
   "cell_type": "code",
   "execution_count": null,
   "id": "1f44c159-fe9b-499a-9957-335cba8472c6",
   "metadata": {},
   "outputs": [],
   "source": [
    "#module score analysis based on genelists sourced from literature or our bulk data (DESeq2 comparisons)"
   ]
  },
  {
   "cell_type": "code",
   "execution_count": null,
   "id": "605270f5-432f-4f32-9db2-0ed1942176c2",
   "metadata": {},
   "outputs": [],
   "source": [
    "bulk.lists <- parse_marker_gmt(\"GMT/bulk.lists.narrowed.gmt\", trim_first=FALSE)\n",
    "\n",
    "options(warn=-1)\n",
    "seu.obj -> seu.obj3\n",
    "DefaultAssay(seu.obj3) <- \"SCT\"\n",
    "NM <- names(bulk.lists)\n",
    "for (n in NM)\n",
    "{\n",
    "\tseu.obj3 <- AddModuleScore (\n",
    "\t\tseu.obj3, features=list(bulk.lists[[n]]), name=n, search = TRUE\n",
    "\t)\n",
    "}\n",
    "\n",
    "options(warn=0)"
   ]
  },
  {
   "cell_type": "code",
   "execution_count": null,
   "id": "2eef50f2-a62e-4ccf-93a1-ede4a03a9951",
   "metadata": {},
   "outputs": [],
   "source": [
    "seu.obj3@meta.data %>% colnames() %>% .[24:29] -> list.enrich.colnames"
   ]
  },
  {
   "cell_type": "code",
   "execution_count": null,
   "id": "8f1db2c6-c4d5-4b38-8409-bf21dbeb7680",
   "metadata": {},
   "outputs": [],
   "source": [
    "#remove clusters with <1% cells\n",
    "seu.obj3@meta.data %>% filter(integrated_snn_res.0.5 != \"15\") %>% rownames() -> bc.no15"
   ]
  },
  {
   "cell_type": "code",
   "execution_count": null,
   "id": "7016ea95-425a-411e-914a-c4937c502919",
   "metadata": {},
   "outputs": [],
   "source": [
    "#generate violin plots for columns from metadata (Figures 4D, S4A and S6H)\n",
    "vlistViolin1 <- list()\n",
    "\n",
    "for (kp in vlist.enrich.colnames)\n",
    "{\n",
    "    plot_violin_metadata(seu.obj3[, bc.no15]@meta.data[, c(17, 21:29)], \"integrated_snn_res.0.5\", kp) -> vlistViolin1[[kp]]\n",
    "}\n",
    "\n",
    "print_plots_in_list(vlistViolin1, title = \"BULK.LISTS.NARROWED.violin\")"
   ]
  },
  {
   "cell_type": "code",
   "execution_count": null,
   "id": "b7802aa1-7665-4e73-8e8c-315fbe35c7bd",
   "metadata": {},
   "outputs": [],
   "source": [
    "#palette for module score umaps\n",
    "pal <- wes_palette(\"Zissou1\", 5, type = \"continuous\")"
   ]
  },
  {
   "cell_type": "code",
   "execution_count": null,
   "id": "cd3d3478-b39b-4d85-86bc-b1039f000051",
   "metadata": {},
   "outputs": [],
   "source": [
    "#generate umap for module scores (Figures 2D, 6K, 6M, S2A, S2C, S6E and S6G)\n",
    "vlist.umap <- list()\n",
    "#for all cells in umap\n",
    "for (kp in vlist.enrich.colnames)\n",
    "{\n",
    "    FeaturePlot_scCustom(seu.obj3, colors_use = pal, features = kp, pt.size = 0.5, reduction = \"umap\", na_cutoff = NA) -> vlist.umap[[kp]]\n",
    "}\n",
    "\n",
    "#for cells split into constituent origins (or any other column in metadata)\n",
    "vlist.umap2 <- list()\n",
    "\n",
    "for (kp in vlist.enrich.colnames)\n",
    "{\n",
    "    FeaturePlot_scCustom(seu.obj3, colors_use = pal, features = kp, pt.size = 0.5, reduction = \"umap\", na_cutoff = NA, \n",
    "                         split.by = \"Virus\") -> vlist.umap2[[kp]]\n",
    "}\n",
    "\n",
    "print_plots_in_list(vlist.umap, title = \"VLIST.UMAP.newcols\")\n",
    "print_plots_in_list(vlist.umap2, title = \"VLIST.UMAP.split.virus.newcols\")"
   ]
  },
  {
   "cell_type": "code",
   "execution_count": null,
   "id": "1458f6a4-9f02-447a-8504-c708c238561e",
   "metadata": {
    "tags": []
   },
   "outputs": [],
   "source": [
    "#violin plots for specific clusters or groups\n",
    "#first assign barcodes to a particular group of interest based on visualization criteria\n",
    "#example clusters 2 and 4 from virus data (Figure 2H) split based on CD4 or CD8\n",
    "ggplot(violin1(cl24, feature=\"GZMB\", assay = \"SCT\", groups_to_compare=c(\"CD4_2\", \"CD8_2\", \"CD4_4\", \"CD8_4\"), \n",
    "               cell_group_col=\"class.cluster\"), aes(x=variable, y=value,fill=frac)) +\n",
    "               geom_violin(scale=\"width\", trim = F) +\n",
    "               scale_fill_gradientn(colours=c(\"yellow\", \"firebrick\"), limits = c(0,1)) + theme_bw() +\n",
    "               theme(text = element_text(size=20), axis.text.x = element_text(size=5, angle=45),panel.grid.major = element_blank(), \n",
    "               panel.grid.minor = element_blank()) + ggtitle(\"GZMB\") + geom_boxplot(width=0.05, color=\"black\", fill = \"white\", outlier.shape = NA) +\n",
    "               scale_x_discrete(limits = c(\"CD4_2\", \"CD8_2\", \"CD4_4\", \"CD8_4\")) -> gzmb.coi\n",
    "\n",
    "\n",
    "#example origin of D10 or D20 from in vitro differentiation data (Figure S6F) split based on early or late clusters from pseudotime\n",
    "ggplot(violin2(seu.obj1, feature=\"TBX21\", assay = \"SCT\", groups_to_compare=c(\"D10_early\", \"D10_late\", \"D20_early\", \"D20_late\"), \n",
    "               cell_group_col=\"p.cluster\"), aes(x=variable, y=value,fill=mean_exp)) +\n",
    "               geom_violin(scale=\"width\", trim = F) +\n",
    "               scale_fill_gradientn(colours=c(\"#80BB17\", \"#6C244C\")) + theme_bw() +\n",
    "               theme(text = element_text(size=20), axis.text.x = element_text(size=8),panel.grid.major = element_blank(), \n",
    "               panel.grid.minor = element_blank()) + ggtitle(\"TBX21\") + geom_boxplot(width=0.05, color=\"black\", fill = \"white\", outlier.shape = NA) +\n",
    "               scale_x_discrete(limits = c(\"D10_early\", \"D10_late\", \"D20_early\", \"D20_late\")) -> tf.tbx21.violin\n",
    "\n",
    "#save either as lists or individual plots"
   ]
  },
  {
   "cell_type": "code",
   "execution_count": null,
   "id": "72fb1f37-b38f-4190-8f44-cad957d8158e",
   "metadata": {},
   "outputs": [],
   "source": [
    "#Pseudotime analysis using Monocle3 (Figures 6N-6Q)"
   ]
  },
  {
   "cell_type": "code",
   "execution_count": null,
   "id": "3c5eeb19-46da-4c71-8b6e-bb6ad20cb5ca",
   "metadata": {},
   "outputs": [],
   "source": [
    "library(monocle3)"
   ]
  },
  {
   "cell_type": "code",
   "execution_count": null,
   "id": "e5d29268-6c59-404d-8853-2bbda36c68e2",
   "metadata": {},
   "outputs": [],
   "source": [
    "seu.seu.obj1 <- readRDS(\"seu.obj1.clustersplit.rds\")\n",
    "seu.seu.obj1[[\"UMAP\"]] <- seu.seu.obj1[[\"umap\"]]"
   ]
  },
  {
   "cell_type": "code",
   "execution_count": null,
   "id": "f4105fbe-b52a-4b86-a1a7-d197020e501d",
   "metadata": {},
   "outputs": [],
   "source": [
    "DefaultAssay(seu.seu.obj1) <- \"SCTnewcounts\"\n",
    "Idents(seu.seu.obj1) <- \"integrated_snn_res.0.3\"\n",
    "DimPlot(seu.seu.obj1, label = TRUE, repel = TRUE, reduction = \"UMAP\")"
   ]
  },
  {
   "cell_type": "code",
   "execution_count": null,
   "id": "659565e6-5ac2-4e6e-94a5-663158836202",
   "metadata": {},
   "outputs": [],
   "source": [
    "seu.obj1 <- as.cell_data_set(x = seu.obj1)\n",
    "seu.obj1 <- preprocess_cds(seu.obj1)\n",
    "seu.obj1 <- cluster_cells(cds = seu.obj1, reduction_method = \"UMAP\")"
   ]
  },
  {
   "cell_type": "code",
   "execution_count": null,
   "id": "ceec10e7-5d80-4de1-9ecd-910d4bb3746b",
   "metadata": {},
   "outputs": [],
   "source": [
    "#pdf(sprintf(\"%s/monocle_plotcells.pdf\", IMG_OUT), width=6, height=6)\n",
    "plot_cells(seu.obj1, , color_cells_by=\"partition\", group_cells_by=\"partition\", label_cell_groups=FALSE)\n",
    "#dev.off()\n",
    "\n",
    "#use single partitions"
   ]
  },
  {
   "cell_type": "code",
   "execution_count": null,
   "id": "f401336e-bbab-41f7-b558-ec8340bb674f",
   "metadata": {},
   "outputs": [],
   "source": [
    "seu.obj1 <- learn_graph(seu.obj1, use_partition = TRUE)"
   ]
  },
  {
   "cell_type": "code",
   "execution_count": null,
   "id": "95ae46fc-52e7-4eea-a448-13a1d764af2e",
   "metadata": {},
   "outputs": [],
   "source": [
    "#pdf(sprintf(\"%s/monocle_clusters.with.nodes.pdf\", IMG_OUT), width=6, height=6)\n",
    "plot_cells(seu.obj1, label_principal_points = TRUE)\n",
    "#dev.off()"
   ]
  },
  {
   "cell_type": "code",
   "execution_count": null,
   "id": "c0a6b1c1-bed2-4438-9abe-0fe28e7ebb3a",
   "metadata": {},
   "outputs": [],
   "source": [
    "seu.obj1 <- order_cells(seu.obj1, reduction_method = \"UMAP\", root_pr_nodes = \"Y_38\")\n",
    "\n",
    "# plot cells in pseudotime (Figure 6N)\n",
    "#pdf(sprintf(\"%s/monocle_pseudotime_newcol.pdf\", IMG_OUT), width=7, height=5)\n",
    "plot_cells(seu.obj1,\n",
    "           color_cells_by = \"pseudotime\",\n",
    "           label_cell_groups=FALSE,\n",
    "           label_leaves=TRUE,\n",
    "           label_branch_points=TRUE) + scale_color_gradient2(low=\"#00AAD4\", high=\"#FF2A2A\", midpoint = 7)\n",
    "#dev.off()"
   ]
  },
  {
   "cell_type": "code",
   "execution_count": null,
   "id": "a1f5b4bf-1b8d-4bc2-97d3-d3374e7f0a2a",
   "metadata": {},
   "outputs": [],
   "source": [
    "## Calculate size factors using built-in function in monocle3\n",
    "seu.obj1 <- estimate_size_factors(seu.obj1)\n",
    "\n",
    "## Add gene names into CDS\n",
    "seu.obj1@rowRanges@elementMetadata@listData[[\"gene_short_name\"]] <- rownames(seu.obj1[[\"SCTnewcounts\"]])"
   ]
  },
  {
   "cell_type": "code",
   "execution_count": null,
   "id": "1a31dfc4-ed56-4686-b904-6258f644f9ed",
   "metadata": {},
   "outputs": [],
   "source": [
    "# make the subset CDS\n",
    "test_genes=c('CD27','CD28','GNLY','HOPX','NKG7','ZNF683')"
   ]
  },
  {
   "cell_type": "code",
   "execution_count": null,
   "id": "32b3b899-6b29-4986-a2d1-f171badaed71",
   "metadata": {},
   "outputs": [],
   "source": [
    "cds_obj1 <- seu.obj1[rowData(seu.obj1)$gene_short_name %in% test_tf1, colData(seu.obj1)$Origin %in% \"CD4\"]\n",
    "cds_obj2 <- seu.obj1[rowData(seu.obj1)$gene_short_name %in% test_tf1, colData(seu.obj1)$Origin %in% \"Day10\"]\n",
    "cds_obj3 <- seu.obj1[rowData(seu.obj1)$gene_short_name %in% test_tf1, colData(seu.obj1)$Origin %in% \"Day20\"]\n",
    "\n",
    "plot_genes_in_pseudotime(cds_obj1, color_cells_by=\"integrated_snn_res.0.3\", min_expr=0.5\n",
    "                        ) + scale_colour_manual(values = c('#73f08e','#921b63','#fa3838','#481e2e','#48a4f5','#12090a','#6a401b','#dc268c','#824fae')) -> p1\n",
    "plot_genes_in_pseudotime(cds_obj2, color_cells_by=\"integrated_snn_res.0.3\", min_expr=0.5\n",
    "                        ) + scale_colour_manual(values = c('#73f08e','#921b63','#fa3838','#481e2e','#48a4f5','#12090a','#6a401b','#dc268c','#824fae')) -> p2\n",
    "plot_genes_in_pseudotime(cds_obj3, color_cells_by=\"integrated_snn_res.0.3\", min_expr=0.5\n",
    "                        ) + scale_colour_manual(values = c('#73f08e','#921b63','#fa3838','#481e2e','#48a4f5','#12090a','#6a401b','#dc268c','#824fae')) -> p3"
   ]
  },
  {
   "cell_type": "code",
   "execution_count": null,
   "id": "f27c21de-9d3f-405a-b2df-3391045d0d86",
   "metadata": {},
   "outputs": [],
   "source": [
    "list(p1, p2, p3) -> p.all\n",
    "#plot genes in pseudotime (Figure 6P)\n",
    "print_plots_in_list1(p.all, title = \"genes.of.interest.in.pseudotime.clusters.split.by.origin.newcols\")"
   ]
  },
  {
   "cell_type": "code",
   "execution_count": null,
   "id": "9e3d0ad3-6e58-470f-9078-15cba37855f1",
   "metadata": {},
   "outputs": [],
   "source": [
    "plot_violin_metadata(seu.obj1@meta.data, \"integrated_snn_res.0.3\", \"pseudotime\")\n",
    "plot_violin_metadata(seu.obj1@meta.data, \"cluster.split\", \"pseudotime\") -> p2\n",
    "\n",
    "#arrange clusters according to increasing pseudotime scores (Figure 6O)\n",
    "p2$data$cluster.split <- factor(x = p2$data$cluster.split, levels = c(\"CD4_3\", \"CD4_0\", \"CD4_7\", \"CD4_8\", \"CD4_2\", \"CD4_6\", \"CD4_4\", \"CD4_5\", \"CD4_1\",\n",
    "                                                \"Day10_3\", \"Day10_0\", \"Day10_7\", \"Day10_8\", \"Day10_2\", \"Day10_6\", \"Day10_4\", \"Day10_5\", \"Day10_1\",\n",
    "                                                \"Day20_3\", \"Day20_0\", \"Day20_7\", \"Day20_8\", \"Day20_2\", \"Day20_6\", \"Day20_4\", \"Day20_5\", \"Day20_1\"))\n",
    "\n",
    "pdf(sprintf(\"%s/diff.pseudotime.cluster.split.violin.pdf\", IMG_OUT), width=15, height=5)\n",
    "p2\n",
    "dev.off()"
   ]
  },
  {
   "cell_type": "code",
   "execution_count": null,
   "id": "07710d55-1309-4da6-8380-231e32ebdeca",
   "metadata": {},
   "outputs": [],
   "source": [
    "#analysis of scTCR-seq data"
   ]
  },
  {
   "cell_type": "code",
   "execution_count": null,
   "id": "def30e8a-d809-4ac0-bac0-c23c4c219f64",
   "metadata": {},
   "outputs": [],
   "source": [
    "# setup paths\n",
    "VDJ_CTYPE = \"../TSCM_TEMRA_vdj/outs/vdj_t/clonotypes.csv\"\n",
    "VDJ_PATH  = read.csv(\"../TSCM_TEMRA_vdj/outs/vdj_t/filtered_contig_annotations.csv\")"
   ]
  },
  {
   "cell_type": "code",
   "execution_count": null,
   "id": "b55c083d-7ee2-4c54-a286-a36bb4902333",
   "metadata": {},
   "outputs": [],
   "source": [
    "#change barcode pattern of cellranger output to match the one in seurat object\n",
    "VDJ_PATH$barcode <- VDJ_PATH$barcode %>% gsub(pattern = \"-1\", replacement = \"-1_1\", x = .)\n",
    "VDJ_PATH$barcode <- VDJ_PATH$barcode %>% gsub(pattern = \"-2\", replacement = \"-1_2\", x = .)"
   ]
  },
  {
   "cell_type": "code",
   "execution_count": null,
   "id": "234d7d41-b264-4bde-a5f4-7fdbab89862a",
   "metadata": {},
   "outputs": [],
   "source": [
    "# Clonotype information from the QC cells only\n",
    "ctd.qc <- build_clonotype_table(t.int, vdj_anno_path = VDJ_PATH, plots=FALSE)\n",
    "\n",
    "# ctd$clonotype_table[-(1:2), 1] %>% as.numeric() %>% sum()\n",
    "ctd.qc$clonotype_table[-(1:2), 1] %>% as.numeric() %>% sum()\n",
    "\n",
    "write.csv(ctd.qc$clonotype_table, \"Tables/clonotype_sharing_table_qc.csv\")"
   ]
  },
  {
   "cell_type": "code",
   "execution_count": null,
   "id": "5a2466b5-a8ad-4f98-b9d0-bd30a68fb03f",
   "metadata": {},
   "outputs": [],
   "source": [
    "ctd.qc$clonotype_by_barcode -> Z1\n",
    "\n",
    "Z1 %>% add_count(raw_clonotype_id,  name=\"FREQ\") -> Z1\n",
    "\n",
    "all(Z1$frequency == Z1$FREQ)\n",
    "\n",
    "ctd.qc$clonotype_by_barcode %>% dplyr::select(barcode, raw_clonotype_id, frequency, expanded) -> cx"
   ]
  },
  {
   "cell_type": "code",
   "execution_count": null,
   "id": "94f1252a-fd45-4b01-9e47-91c7bdad2694",
   "metadata": {},
   "outputs": [],
   "source": [
    "tmp_1 <- t.int@meta.data %>% rownames_to_column(\"barcode\")\n",
    "\n",
    "merge(tmp_1, cx, by=\"barcode\", all.x=TRUE) %>% dim()\n",
    "merge(tmp_1, cx, by=\"barcode\", all.x=TRUE) %>% column_to_rownames(\"barcode\") -> tmp_2\n",
    "head(tmp_2)\n",
    "\n",
    "tmp_2 <- within(tmp_2, frequency[is.na(raw_clonotype_id)] <- \"NA\")\n",
    "tmp_2 <- within(tmp_2, expanded[is.na(raw_clonotype_id)]  <- \"NA\")\n",
    "\n",
    "tmp_2[rownames(t.int@meta.data),] -> tmp_3\n",
    "\n",
    "t.int@meta.data$ClonotypeID        <- \"NA\"\n",
    "t.int@meta.data$ClonotypeFrequency <- \"NA\"\n",
    "t.int@meta.data$ClonotypeExpanded  <- \"NA\"\n",
    "\n",
    "t.int@meta.data[t.int %>% colnames(), \"ClonotypeID\"] <- tmp_3[t.int %>% colnames(), \"raw_clonotype_id\"] %>% as.character()\n",
    "t.int@meta.data[t.int %>% colnames(), \"ClonotypeFrequency\"] <- tmp_3[t.int %>% colnames(), \"frequency\"] %>% as.character()\n",
    "t.int@meta.data[t.int %>% colnames(), \"ClonotypeExpanded\"] <- tmp_3[t.int %>% colnames(), \"expanded\"] %>% as.character()"
   ]
  },
  {
   "cell_type": "code",
   "execution_count": null,
   "id": "c81415e3-3b30-4ba9-84bd-5244d8e47344",
   "metadata": {},
   "outputs": [],
   "source": [
    "#generate upset plot across classes (Figure 5E)\n",
    "clonotypes_per_class <- list()\n",
    "for (i in unique(t.int@meta.data$Class))\n",
    "{\n",
    "    clonotypes_per_class[[i]] <- t.int@meta.data %>%\n",
    "    filter(Class == i) %>%\n",
    "    pull(ClonotypeID) %>% .[!is.na(.)] %>% unique()\n",
    "}"
   ]
  },
  {
   "cell_type": "code",
   "execution_count": null,
   "id": "8e85832d-5540-48c1-ba11-52c57b108056",
   "metadata": {},
   "outputs": [],
   "source": [
    "upset(\n",
    "            fromList(clonotypes_per_class), \n",
    "            order.by = \"freq\", \n",
    "            text.scale = c(2, 2, 2, 2, 2, 2), \n",
    "            point.size=3, \n",
    "            line.size=1.5, \n",
    "            nsets=17, \n",
    "            number.angles=0\n",
    "        ) -> QCD16\n",
    "\n",
    "save_result_generic(\n",
    "   args= list(\"FUN\"=QCD16,\n",
    "    \"width\"=16, \"height\"=9, \n",
    "    \"title\"=\"UPSET_CLONOTYPE_CLASS\", type=\"plot\")\n",
    ")"
   ]
  },
  {
   "cell_type": "code",
   "execution_count": null,
   "id": "f3c07489-8022-480d-aeb6-659fd1d0b668",
   "metadata": {},
   "outputs": [],
   "source": [
    "#top25 clonotypes bar graph (Figure 7A)\n",
    "# what fraction of expanded clonotypes belong to each origin\n",
    "CLS <- diff.integrated@meta.data$Origin %>% unique() %>% sort() %>% as.character()\n",
    "\n",
    "sort(table(diff.integrated@meta.data$ClonotypeID), decreasing = TRUE) %>%\n",
    ".[. > 1] %>% head(25) %>% names() -> top25_clonotype_names\n",
    "\n",
    "diff.integrated@meta.data %>% dplyr::select(Origin, ClonotypeID) -> SD3"
   ]
  },
  {
   "cell_type": "code",
   "execution_count": null,
   "id": "924ad21d-8100-43f3-ad95-0b7844c33766",
   "metadata": {},
   "outputs": [],
   "source": [
    "ct_counts <- list()\n",
    "for (i in CLS)\n",
    "{\n",
    "    ct_counts[[i]] <- list()\n",
    "    \n",
    "    for (j in top25_clonotype_names)\n",
    "    {\n",
    "        SD3 %>% filter(Origin==i) %>% \n",
    "        filter(ClonotypeID == j) %>% nrow() -> ct_counts[[i]][[j]]\n",
    "    }\n",
    "}\n",
    "\n",
    "as.data.frame(do.call(cbind, ct_counts)) -> ct_df\n",
    "ct_df\n",
    "\n",
    "vec_cls <- c()\n",
    "vec_cty <- c()\n",
    "vec_val <- c()\n",
    "for (i in CLS)\n",
    "{    \n",
    "    for (j in top25_clonotype_names)\n",
    "    {\n",
    "        SD3 %>% filter(Origin==i) %>% \n",
    "        filter(ClonotypeID == j) %>% nrow() -> k\n",
    "        vec_cls <- append(vec_cls, i)\n",
    "        vec_cty <- append(vec_cty, j)\n",
    "        vec_val <- append(vec_val, k)\n",
    "    }\n",
    "}\n",
    "\n",
    "ct2_df <- as.data.frame(cbind(vec_cls, vec_cty, vec_val))\n",
    "colnames(ct2_df) <- c(\"Origin\", \"ClonotypeID\", \"Count\")"
   ]
  },
  {
   "cell_type": "code",
   "execution_count": null,
   "id": "4a2dd3c7-a414-4fac-85cf-cfe7bc750fc1",
   "metadata": {},
   "outputs": [],
   "source": [
    "ct2_df$Count <- as.numeric(ct2_df$Count)\n",
    "\n",
    "cols <- c(\"Day10\" = \"#1E4B66\",\"Day20\" = \"#EE8B3A\")\n",
    "\n",
    "# stacked barplot\n",
    "ggplot(ct2_df, aes(fill=Origin, y=Count, x=ClonotypeID)) + \n",
    "    geom_bar(position=\"stack\", stat=\"identity\")+scale_x_discrete(limits=top25_clonotype_names) + scale_fill_manual(values = cols) +\n",
    "theme_minimal()+ theme(panel.grid.major = element_blank(), panel.grid.minor = element_blank()) + \n",
    "ylab(\"Clonotype frequency\")-> C2_PLOT\n",
    "C2_PLOT\n",
    "\n",
    "save_result_generic(\n",
    "   args= list(\"FUN\"=C2_PLOT,\n",
    "    \"width\"=8, \"height\"=5, \"title\"=\"BAR_CT_FREQUENCY_origin\", type=\"plot\")\n",
    ")"
   ]
  },
  {
   "cell_type": "code",
   "execution_count": null,
   "id": "4cc33bca-7217-45cb-bbf3-f268a3e40213",
   "metadata": {},
   "outputs": [],
   "source": [
    "#circos plots to show sharing across origin and clusters (Figures 5G, 7B and S5C)"
   ]
  },
  {
   "cell_type": "code",
   "execution_count": null,
   "id": "47b26402-01f3-41e0-8a32-2b094838f2df",
   "metadata": {},
   "outputs": [],
   "source": [
    "#take the built clonotype table\n",
    "ctd.qc$clonotype_table -> abc"
   ]
  },
  {
   "cell_type": "code",
   "execution_count": null,
   "id": "b3f43536-f38a-4847-a0ba-189c31daba21",
   "metadata": {},
   "outputs": [],
   "source": [
    "#take all clonotypes of interest with their frequency\n",
    "read.csv(\"exp.clono.seu.obj2.csv\") -> exp.clono.seu.obj2\n",
    "exp.clono.seu.obj2$x -> exp.clono.seu.obj2"
   ]
  },
  {
   "cell_type": "code",
   "execution_count": null,
   "id": "40239057-6a95-46a3-bc89-0c6c3a441b99",
   "metadata": {},
   "outputs": [],
   "source": [
    "abc[exp.clono.seu.obj2, ] -> def"
   ]
  },
  {
   "cell_type": "code",
   "execution_count": null,
   "id": "b5640c45-6f07-4600-b90b-2fcfe5d534bb",
   "metadata": {},
   "outputs": [],
   "source": [
    "#rearrange column based on interest of how to visualize in circos plot\n",
    "def[, c(\"0_tscm\",\"1_tscm\",\"2_tscm\",\"3_tscm\",\"4_tscm\",\"5_tscm\",\"6_tscm\",\"7_tscm\",\"8_tscm\",\"9_tscm\",\"10_tscm\",\"11_tscm\",\"12_tscm\",\"13_tscm\",\"14_tscm\",\n",
    "\"0_Precursors\",\"1_Precursors\",\"2_Precursors\",\"3_Precursors\",\"4_Precursors\",\"5_Precursors\",\"6_Precursors\",\"7_Precursors\",\"8_Precursors\",\"9_Precursors\",\"10_Precursors\",\"11_Precursors\",\"12_Precursors\",\"13_Precursors\",\"14_Precursors\",\n",
    "\"0_Effectors\",\"1_Effectors\",\"2_Effectors\",\"3_Effectors\",\"4_Effectors\",\"5_Effectors\",\"6_Effectors\",\"7_Effectors\",\"8_Effectors\",\"9_Effectors\",\"10_Effectors\",\"11_Effectors\",\"12_Effectors\",\"13_Effectors\",\"14_Effectors\")] -> def1"
   ]
  },
  {
   "cell_type": "code",
   "execution_count": null,
   "id": "c73e82da-e6d9-4c81-9eee-64933a9a7aff",
   "metadata": {},
   "outputs": [],
   "source": [
    "#do not need clusterID or class in the table for now\n",
    "def1[-c(1,2), ] -> def2\n",
    "def2 <- t(def2[exp.clono.seu.obj2, ])"
   ]
  },
  {
   "cell_type": "code",
   "execution_count": null,
   "id": "28a84db3-fe74-48c9-8e8d-c54f051effd8",
   "metadata": {},
   "outputs": [],
   "source": [
    "forceMatrixToInteger <- function(m){\n",
    "    apply (m, c (1, 2), function (x) {\n",
    "         (as.integer(x))\n",
    "    })\n",
    "}\n",
    "\n",
    "#covert matrix to integer matrix\n",
    "def3 <- forceMatrixToInteger(def2)"
   ]
  },
  {
   "cell_type": "code",
   "execution_count": null,
   "id": "2bd3b828-1ae1-4061-898b-8e25a12a2d41",
   "metadata": {},
   "outputs": [],
   "source": [
    "c(\"0_tscm\",\"1_tscm\",\"2_tscm\",\"3_tscm\",\"4_tscm\",\"5_tscm\",\"6_tscm\",\"7_tscm\",\"8_tscm\",\"9_tscm\",\"10_tscm\",\"11_tscm\",\"12_tscm\",\"13_tscm\",\"14_tscm\",\n",
    "\"0_Precursors\",\"1_Precursors\",\"2_Precursors\",\"3_Precursors\",\"4_Precursors\",\"5_Precursors\",\"6_Precursors\",\"7_Precursors\",\"8_Precursors\",\"9_Precursors\",\"10_Precursors\",\"11_Precursors\",\"12_Precursors\",\"13_Precursors\",\"14_Precursors\",\n",
    "\"0_Effectors\",\"1_Effectors\",\"2_Effectors\",\"3_Effectors\",\"4_Effectors\",\"5_Effectors\",\"6_Effectors\",\"7_Effectors\",\"8_Effectors\",\"9_Effectors\",\"10_Effectors\",\"11_Effectors\",\"12_Effectors\",\"13_Effectors\",\"14_Effectors\") -> def.names"
   ]
  },
  {
   "cell_type": "code",
   "execution_count": null,
   "id": "6b05be71-bd98-4ba7-a2ac-f011ad3060fc",
   "metadata": {},
   "outputs": [],
   "source": [
    "#format circos as per requirement\n",
    "def.names\n",
    "def.names %>% length()\n",
    "\n",
    "def.names[1:15] -> def.tscm\n",
    "def.names[16:30] -> def.pre\n",
    "def.names[31:45] -> def.eff\n",
    "\n",
    "tscm.col <- \"#548235\"\n",
    "pre.col <- \"#00BFC4\"\n",
    "eff.col <- \"#F8766D\"\n",
    "\n",
    "setNames(rep(tscm.col, length(def.tscm)), def.tscm) -> def.tscm.col\n",
    "setNames(rep(pre.col, length(def.pre)), def.pre) -> def.pre.col\n",
    "setNames(rep(eff.col, length(def.eff)), def.eff) -> def.eff.col\n"
   ]
  },
  {
   "cell_type": "code",
   "execution_count": null,
   "id": "7d840a2a-185e-4cfd-9b9b-1814c846c68d",
   "metadata": {},
   "outputs": [],
   "source": [
    "border_mat = matrix(NA, nrow = nrow(def3), ncol = ncol(def3))\n",
    "\n",
    "border_mat[1:15, ] <- \"#548235\"\n",
    "border_mat[16:30, ] <- \"#00BFC4\"\n",
    "border_mat[31:45, ] <- \"#F8766D\"\n",
    "#border_mat\n",
    "rownames(border_mat) <- rownames(def3)\n",
    "colnames(border_mat) <- colnames(def3)"
   ]
  },
  {
   "cell_type": "code",
   "execution_count": null,
   "id": "103fe5dd-6bc9-4337-bd51-297de9a686cc",
   "metadata": {},
   "outputs": [],
   "source": [
    "my_cols <- c('#36a598','#681bb9','#efb0f8','#ca0f26','#9495e8',\n",
    "             '#878a19','#ac26e0','#4f2691','#3704d4','#a14eaf',\n",
    "             '#fec2b4','#d7c856','#6d435b','#77f0ab','#f78c1f')"
   ]
  },
  {
   "cell_type": "code",
   "execution_count": null,
   "id": "7e218937-3c61-422e-9a0f-0401cf1297ef",
   "metadata": {},
   "outputs": [],
   "source": [
    "def.names[c(1, 16, 31)] -> cl0\n",
    "def.names[c(2, 17, 32)] -> cl1\n",
    "def.names[c(3, 18, 33)] -> cl2\n",
    "def.names[c(4, 19, 34)] -> cl3\n",
    "def.names[c(5, 20, 35)] -> cl4\n",
    "def.names[c(6, 21, 36)] -> cl5\n",
    "def.names[c(7, 22, 37)] -> cl6\n",
    "def.names[c(8, 23, 38)] -> cl7\n",
    "def.names[c(9, 24, 39)] -> cl8\n",
    "def.names[c(10, 25, 40)] -> cl9\n",
    "def.names[c(11, 26, 41)] -> cl10\n",
    "def.names[c(12, 27, 42)] -> cl11\n",
    "def.names[c(13, 28, 43)] -> cl12\n",
    "def.names[c(14, 29, 44)] -> cl13\n",
    "def.names[c(15, 30, 45)] -> cl14"
   ]
  },
  {
   "cell_type": "code",
   "execution_count": null,
   "id": "d1d6fabf-65f6-4785-aa84-21bfed714e97",
   "metadata": {},
   "outputs": [],
   "source": [
    "setNames(rep(my_cols[1], length(cl0)), cl0) -> cl0.col\n",
    "setNames(rep(my_cols[2], length(cl1)), cl1) -> cl1.col\n",
    "setNames(rep(my_cols[3], length(cl2)), cl2) -> cl2.col\n",
    "setNames(rep(my_cols[4], length(cl3)), cl3) -> cl3.col\n",
    "setNames(rep(my_cols[5], length(cl4)), cl4) -> cl4.col\n",
    "setNames(rep(my_cols[6], length(cl5)), cl5) -> cl5.col\n",
    "setNames(rep(my_cols[7], length(cl6)), cl6) -> cl6.col\n",
    "setNames(rep(my_cols[8], length(cl7)), cl7) -> cl7.col\n",
    "setNames(rep(my_cols[9], length(cl8)), cl8) -> cl8.col\n",
    "setNames(rep(my_cols[10], length(cl9)), cl9) -> cl9.col\n",
    "setNames(rep(my_cols[11], length(cl10)), cl10) -> cl10.col\n",
    "setNames(rep(my_cols[12], length(cl11)), cl11) -> cl11.col\n",
    "setNames(rep(my_cols[13], length(cl12)), cl12) -> cl12.col\n",
    "setNames(rep(my_cols[14], length(cl13)), cl13) -> cl13.col\n",
    "setNames(rep(my_cols[15], length(cl14)), cl14) -> cl14.col\n",
    "\n",
    "grid.col <- c(cl0.col, cl1.col, cl2.col,\n",
    "              cl3.col, cl4.col, cl5.col,\n",
    "              cl6.col, cl7.col, cl8.col,\n",
    "              cl9.col, cl10.col, cl11.col,\n",
    "              cl12.col, cl13.col, cl14.col)\n",
    "\n",
    "grid.col"
   ]
  },
  {
   "cell_type": "code",
   "execution_count": null,
   "id": "6c5447f2-821a-439d-8e70-dd9132420275",
   "metadata": {},
   "outputs": [],
   "source": [
    "circos.par(gap.after = c(rep(1, ncol(def3)-1), 10, rep(1, 14), 5, rep(1, 14), 5, rep(1, 14), 10))\n",
    "chordDiagram(t(def3), grid.col = grid.col, annotationTrack = \"grid\",\n",
    "             preAllocateTracks = list(#list(track.height = mm_h(5)),\n",
    "                                 list(track.height = mm_h(5))),\n",
    "             reduce = 0, transparency = 0.8,\n",
    "             link.lwd = 0.5,    # Line width\n",
    "             link.lty = 1,    # Line type\n",
    "             link.border = t(border_mat),\n",
    "             directional = -1, \n",
    "             direction.type = c(\"diffHeight\", \"arrows\"),\n",
    "             link.arr.type = \"big.arrow\")\n",
    "\n",
    "highlight.sector(def.seu.obj[c(4, 14)], track.index = 1, col = \"#548235\", \n",
    "    text = \"TSCM\", cex = 0.8, text.col = \"black\", niceFacing = TRUE)\n",
    "highlight.sector(def.pre[-6], track.index = 1, col = \"#00BFC4\", \n",
    "    text = \"Precursors\", cex = 0.8, text.col = \"black\", niceFacing = TRUE)\n",
    "highlight.sector(def.eff, track.index = 1, col = \"#F8766D\", \n",
    "    text = \"Effectors\", cex = 0.8, text.col = \"black\", niceFacing = TRUE)\n",
    "highlight.sector(colnames(def3), track.index = 1, col = \"darkgrey\", \n",
    "    text = \"Clonotypes\", cex = 0.8, text.col = \"white\", niceFacing = TRUE)\n",
    "\n",
    "circos.clear()"
   ]
  },
  {
   "cell_type": "code",
   "execution_count": null,
   "id": "312bda82-ece8-4d76-a943-312e03b41fba",
   "metadata": {},
   "outputs": [],
   "source": [
    "pdf(sprintf(\"%s/clonotype.sharing.based.on.cluster.diff.cluster.color.pdf\", IMG_OUT), width=10, height=10)\n",
    "circos.par(gap.after = c(rep(1, ncol(def3)-1), 10, rep(1, 14), 5, rep(1, 14), 5, rep(1, 14), 10))\n",
    "chordDiagram(t(def3), grid.col = grid.col, annotationTrack = \"grid\",\n",
    "             preAllocateTracks = list(list(track.height = mm_h(5)),\n",
    "                                 list(track.height = mm_h(5))),\n",
    "             reduce = 0, transparency = 0.8,\n",
    "             link.lwd = 0.5,    # Line width\n",
    "             link.lty = 1,    # Line type\n",
    "             link.border = t(border_mat),\n",
    "             directional = -1, \n",
    "             direction.type = c(\"diffHeight\", \"arrows\"),\n",
    "             link.arr.type = \"big.arrow\")\n",
    "\n",
    "for(si in get.all.sector.index()) {\n",
    "    circos.axis(h = \"top\", labels.cex = 0.3, sector.index = si, track.index = 3)\n",
    "}\n",
    "\n",
    "circos.track(track.index = 2, panel.fun = function(x, y) {\n",
    "    xlim = get.cell.meta.data(\"xlim\")\n",
    "    ylim = get.cell.meta.data(\"ylim\")\n",
    "    sector.name = get.cell.meta.data(\"sector.index\")\n",
    "    xplot = get.cell.meta.data(\"xplot\")\n",
    "    \n",
    "    circos.lines(xlim, c(mean(ylim), mean(ylim)), lty = 3) # dotted line\n",
    "    by = ifelse(abs(xplot[2] - xplot[1]) > 30, 0.2, 0.5)\n",
    "    for(p in seq(by, 1, by = by)) {\n",
    "        circos.text(p*(xlim[2] - xlim[1]) + xlim[1], mean(ylim) + 0.1, \n",
    "            paste0(p*100, \"%\"), cex = 0.3, adj = c(0.5, 0), niceFacing = TRUE)\n",
    "    }\n",
    "    \n",
    "}, bg.border = NA)\n",
    "\n",
    "highlight.sector(def.seu.obj[c(4, 14)], track.index = 1, col = \"#548235\", \n",
    "    text = \"TSCM\", cex = 0.8, text.col = \"black\", niceFacing = TRUE)\n",
    "highlight.sector(def.pre[-6], track.index = 1, col = \"#00BFC4\", \n",
    "    text = \"Precursors\", cex = 0.8, text.col = \"black\", niceFacing = TRUE)\n",
    "highlight.sector(def.eff, track.index = 1, col = \"#F8766D\", \n",
    "    text = \"Effectors\", cex = 0.8, text.col = \"black\", niceFacing = TRUE)\n",
    "highlight.sector(colnames(def3), track.index = 1, col = \"darkgrey\", \n",
    "    text = \"Clonotypes\", cex = 0.8, text.col = \"white\", niceFacing = TRUE)\n",
    "\n",
    "circos.clear()\n",
    "dev.off()"
   ]
  },
  {
   "cell_type": "code",
   "execution_count": null,
   "id": "c25e533b-a447-4757-81e0-e5e9d699d12f",
   "metadata": {},
   "outputs": [],
   "source": [
    "#donor-wise circos generated using similar matrix with clusters instead of donors (Figure S5C)"
   ]
  }
 ],
 "metadata": {
  "kernelspec": {
   "display_name": "R",
   "language": "R",
   "name": "ir"
  },
  "language_info": {
   "codemirror_mode": "r",
   "file_extension": ".r",
   "mimetype": "text/x-r-source",
   "name": "R",
   "pygments_lexer": "r",
   "version": "4.2.2"
  }
 },
 "nbformat": 4,
 "nbformat_minor": 5
}
